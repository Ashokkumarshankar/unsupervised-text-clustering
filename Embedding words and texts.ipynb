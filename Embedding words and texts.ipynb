{
 "cells": [
  {
   "cell_type": "code",
   "execution_count": 10,
   "id": "73ed975a",
   "metadata": {},
   "outputs": [],
   "source": [
    "import io\n",
    "import os\n",
    "import re\n",
    "import shutil\n",
    "import string\n",
    "import tensorflow"
   ]
  },
  {
   "cell_type": "code",
   "execution_count": 51,
   "id": "a3468f4f",
   "metadata": {},
   "outputs": [],
   "source": [
    "from tensorflow.keras import Sequential\n",
    "from tensorflow.keras.layers import Dense, GlobalAveragePooling1D, Embedding\n",
    "from tensorflow.keras.layers import TextVectorization"
   ]
  },
  {
   "cell_type": "code",
   "execution_count": 12,
   "id": "edd07a3a",
   "metadata": {},
   "outputs": [
    {
     "data": {
      "text/plain": [
       "['imdb.vocab', 'imdbEr.txt', 'README', 'test', 'train']"
      ]
     },
     "execution_count": 12,
     "metadata": {},
     "output_type": "execute_result"
    }
   ],
   "source": [
    "url= \"https://ai.stanford.edu/~amaas/data/sentiment/aclImdb_v1.tar.gz\"\n",
    "dataset=tf.keras.utils.get_file(\"aclImdb_v1.tar.gz\",url,\n",
    "                                untar=True,\n",
    "                                cache_dir='.',\n",
    "                                cache_subdir=''\n",
    "                               )\n",
    "dataset_dir=os.path.join(os.path.dirname(dataset),'aclImdb')\n",
    "os.listdir(dataset_dir)"
   ]
  },
  {
   "cell_type": "code",
   "execution_count": 15,
   "id": "77960874",
   "metadata": {},
   "outputs": [
    {
     "data": {
      "text/plain": [
       "['labeledBow.feat',\n",
       " 'neg',\n",
       " 'pos',\n",
       " 'unsup',\n",
       " 'unsupBow.feat',\n",
       " 'urls_neg.txt',\n",
       " 'urls_pos.txt',\n",
       " 'urls_unsup.txt']"
      ]
     },
     "execution_count": 15,
     "metadata": {},
     "output_type": "execute_result"
    }
   ],
   "source": [
    "train_dir=os.path.join(dataset_dir,'train')\n",
    "os.listdir(train_dir)"
   ]
  },
  {
   "cell_type": "code",
   "execution_count": 19,
   "id": "d7eaa27c",
   "metadata": {},
   "outputs": [],
   "source": [
    "remove_dir=os.path.join(train_dir,'unsup')\n",
    "shutil.rmtree(remove_dir)"
   ]
  },
  {
   "cell_type": "code",
   "execution_count": 20,
   "id": "a80ea2eb",
   "metadata": {},
   "outputs": [
    {
     "name": "stdout",
     "output_type": "stream",
     "text": [
      "Found 25000 files belonging to 2 classes.\n",
      "Using 20000 files for training.\n",
      "Found 25000 files belonging to 2 classes.\n",
      "Using 5000 files for validation.\n"
     ]
    }
   ],
   "source": [
    "batch_size=1024\n",
    "seed=123\n",
    "\n",
    "train_ds=tf.keras.utils.text_dataset_from_directory('aclImdb/train',\n",
    "                                                    batch_size=batch_size,validation_split=0.2,\n",
    "                                                    subset='training',seed=seed)\n",
    "validation_ds=tf.keras.utils.text_dataset_from_directory('aclImdb/train',batch_size=batch_size,\n",
    "                                                         validation_split=0.2,\n",
    "                                                        subset='validation',seed=seed)"
   ]
  },
  {
   "cell_type": "code",
   "execution_count": 21,
   "id": "cc3e76ea",
   "metadata": {},
   "outputs": [
    {
     "data": {
      "text/plain": [
       "['labeledBow.feat',\n",
       " 'neg',\n",
       " 'pos',\n",
       " 'unsupBow.feat',\n",
       " 'urls_neg.txt',\n",
       " 'urls_pos.txt',\n",
       " 'urls_unsup.txt']"
      ]
     },
     "execution_count": 21,
     "metadata": {},
     "output_type": "execute_result"
    }
   ],
   "source": [
    "os.listdir(train_dir)"
   ]
  },
  {
   "cell_type": "code",
   "execution_count": 24,
   "id": "98d5b24a",
   "metadata": {},
   "outputs": [
    {
     "name": "stdout",
     "output_type": "stream",
     "text": [
      "0 b\"Wow. Some movies just leave me speechless. This was undeniably one of those movies. When I left the theatre, not a single word came to my mouth. All I had was an incredible urge to slam my head against the theatre wall to help me forget about the last hour and a half. Unfortunately, it didn't work. Honestly, this movie has nothing to recommend. The humor was at the first grade level, at best, the acting was overly silly, and the plot was astronomically far-fetched. I hearby pledge never to see an other movie starring Chris Kattan or any other cast-member of SNL.\"\n",
      "1 b'If any show in the last ten years deserves a 10, it is this rare gem. It allows us to escape back to a time when things were simpler and more fun. Filled with heart and laughs, this show keeps you laughing through the three decades of difference. The furniture was ugly, the clothes were colorful, and the even the drugs were tolerable. The hair was feathered, the music was accompanied by roller-skates, and in the words of Merle Haggard, \"a joint was a bad place to be\". Take a trip back to the greatest time in American history. Fall in love with characters and the feel good essence of the small town where people were nicer to each other. This classic is on television as much as \"Full House\". Don\\'t miss it, and always remember to \"Shake your groove thing!!!\"'\n",
      "1 b'Clearly an hilarious movie.<br /><br />It angers me to see the poor ratings given to this piece of comic genius<br /><br />Please look at this for what it is, a funny, ridiculous enjoyable film. Laugh for christ sake!<br /><br />'\n",
      "0 b\"Distasteful, cliched thriller has young couple doing cross-country research on America's most infamous murder sites, becoming road partners with a dim-witted young woman and her snarling boyfriend--who is an actual psycho. Arty and alienating, the film's tone alternates between pouty pseudo-irony and silly flamboyance. Handsomely-made perhaps, but ultimately laughable. Brad Pitt's performance as the low-rent killer is godawful. * from ****\"\n",
      "1 b\"Scott is right. The best 2 person sword duel ever put on film is in the middle of this movie. The sword fights with multiple fighters are not the best although quite good. However, the fight in the middle is the best even compared to Japanese samurai movies. Chinese swordplay scenes in my opinion have never surpassed the Japanese in terms of entertainment value. Especially in scenes where one guy must battle a group of enemies, Japanese movies excel, example being the Lone Wolf and Cub series. Even though duels in Japanese cinema last only seconds or a minute at the most, the sheer intensity of those moments made them better. But, this is one example where Chinese swordplay surpasses the Japanese. The scene in the middle of this film was a five minute long fight with the most amazing choreography ever. The other fights in this movie are good too but even if they sucked this movie would get a 7 for that one scene. If you haven't seen it, you have to. John Woo is the man.\"\n"
     ]
    }
   ],
   "source": [
    "for text_batch,labels in train_ds.take(1):\n",
    "    for i in range(5):\n",
    "        print(labels[i].numpy(),text_batch.numpy()[i])"
   ]
  },
  {
   "cell_type": "code",
   "execution_count": 26,
   "id": "ef490f7d",
   "metadata": {},
   "outputs": [],
   "source": [
    "AUTOTUNE=tf.data.AUTOTUNE\n",
    "train_ds=train_ds.cache().prefetch(buffer_size=AUTOTUNE)\n",
    "val_ds=validation_ds.cache().prefetch(buffer_size=AUTOTUNE)"
   ]
  },
  {
   "cell_type": "code",
   "execution_count": 52,
   "id": "47545bb0",
   "metadata": {},
   "outputs": [],
   "source": [
    "# embedding_layer=tf.keras.layers.Embedding(1000,5)"
   ]
  },
  {
   "cell_type": "code",
   "execution_count": 68,
   "id": "fec852ee",
   "metadata": {},
   "outputs": [],
   "source": [
    "embedding_dim=16\n",
    "vocab_size=10000\n",
    "sequence_length=100"
   ]
  },
  {
   "cell_type": "code",
   "execution_count": 73,
   "id": "0b50b357",
   "metadata": {},
   "outputs": [],
   "source": [
    "def custom_vectorization(input_data):\n",
    "    lowercase=tf.strings.lower(input_data)\n",
    "    stripped_html=tf.strings.regex_replace(lowercase, '<br />', ' ')\n",
    "    return tf.strings.regex_replace(stripped_html, '[%s]' % re.escape(string.punctuation),'')\n",
    "    "
   ]
  },
  {
   "cell_type": "code",
   "execution_count": 74,
   "id": "c26087be",
   "metadata": {},
   "outputs": [],
   "source": [
    "vectorize_layer=TextVectorization(\n",
    "    standardize=custom_vectorization,\n",
    "    max_tokens=vocab_size,\n",
    "    output_mode='int',\n",
    "    output_sequence_length=sequence_length\n",
    ")\n"
   ]
  },
  {
   "cell_type": "code",
   "execution_count": 75,
   "id": "6a2d0a9e",
   "metadata": {},
   "outputs": [],
   "source": [
    "test_ds=train_ds.map(lambda x, y:x)\n",
    "vectorize_layer.adapt(test_ds)"
   ]
  },
  {
   "cell_type": "code",
   "execution_count": null,
   "id": "e080a7b3",
   "metadata": {},
   "outputs": [],
   "source": []
  },
  {
   "cell_type": "code",
   "execution_count": 91,
   "id": "6cef3e30",
   "metadata": {},
   "outputs": [],
   "source": [
    "\n",
    "# lang_tokenizer = tf.keras.preprocessing.text.Tokenizer(filters='', oov_token='<OOV>')\n",
    "# lang_tokenizer.fit_on_texts(train_ds)\n",
    "# tensor = lang_tokenizer.texts_to_sequences(lang) \n",
    "\n",
    "\n",
    "# tensor = tf.keras.preprocessing.sequence.pad_sequences(tensor, padding='post')"
   ]
  },
  {
   "cell_type": "code",
   "execution_count": null,
   "id": "4b218380",
   "metadata": {},
   "outputs": [],
   "source": []
  },
  {
   "cell_type": "code",
   "execution_count": null,
   "id": "28a2dd7b",
   "metadata": {},
   "outputs": [],
   "source": []
  },
  {
   "cell_type": "code",
   "execution_count": null,
   "id": "42b5fac7",
   "metadata": {},
   "outputs": [],
   "source": []
  },
  {
   "cell_type": "code",
   "execution_count": null,
   "id": "3d64db9b",
   "metadata": {},
   "outputs": [],
   "source": []
  },
  {
   "cell_type": "code",
   "execution_count": 92,
   "id": "04c3dea4",
   "metadata": {},
   "outputs": [],
   "source": [
    "model=tf.keras.Sequential([\n",
    "    vectorize_layer,\n",
    "    Embedding(vocab_size,embedding_dim,name='embedding',mask_zero=True),\n",
    "    GlobalAveragePooling1D(),\n",
    "    Dense(16,activation='relu'),\n",
    "    Dense(1)    \n",
    "])"
   ]
  },
  {
   "cell_type": "code",
   "execution_count": 93,
   "id": "e59a3ecf",
   "metadata": {},
   "outputs": [],
   "source": [
    "model.compile(optimizer='Adam',\n",
    "             loss=tf.keras.losses.BinaryCrossentropy(from_logits=True),\n",
    "             metrics=['accuracy'])"
   ]
  },
  {
   "cell_type": "code",
   "execution_count": 94,
   "id": "b8a8c54e",
   "metadata": {},
   "outputs": [
    {
     "name": "stdout",
     "output_type": "stream",
     "text": [
      "Epoch 1/15\n",
      "20/20 [==============================] - 10s 475ms/step - loss: 0.6920 - accuracy: 0.5028 - val_loss: 0.6900 - val_accuracy: 0.4886\n",
      "Epoch 2/15\n",
      "20/20 [==============================] - 3s 173ms/step - loss: 0.6873 - accuracy: 0.5028 - val_loss: 0.6843 - val_accuracy: 0.4886\n",
      "Epoch 3/15\n",
      "20/20 [==============================] - 3s 154ms/step - loss: 0.6796 - accuracy: 0.5028 - val_loss: 0.6752 - val_accuracy: 0.4886\n",
      "Epoch 4/15\n",
      "20/20 [==============================] - 3s 156ms/step - loss: 0.6676 - accuracy: 0.5028 - val_loss: 0.6615 - val_accuracy: 0.4886\n",
      "Epoch 5/15\n",
      "20/20 [==============================] - 3s 171ms/step - loss: 0.6502 - accuracy: 0.5028 - val_loss: 0.6426 - val_accuracy: 0.4886\n",
      "Epoch 6/15\n",
      "20/20 [==============================] - 3s 173ms/step - loss: 0.6265 - accuracy: 0.5090 - val_loss: 0.6177 - val_accuracy: 0.5218\n",
      "Epoch 7/15\n",
      "20/20 [==============================] - 3s 166ms/step - loss: 0.5967 - accuracy: 0.5757 - val_loss: 0.5889 - val_accuracy: 0.5956\n",
      "Epoch 8/15\n",
      "20/20 [==============================] - 3s 164ms/step - loss: 0.5632 - accuracy: 0.6518 - val_loss: 0.5584 - val_accuracy: 0.6530\n",
      "Epoch 9/15\n",
      "20/20 [==============================] - 3s 167ms/step - loss: 0.5282 - accuracy: 0.7125 - val_loss: 0.5284 - val_accuracy: 0.6962\n",
      "Epoch 10/15\n",
      "20/20 [==============================] - 3s 168ms/step - loss: 0.4941 - accuracy: 0.7523 - val_loss: 0.5008 - val_accuracy: 0.7302\n",
      "Epoch 11/15\n",
      "20/20 [==============================] - 3s 169ms/step - loss: 0.4626 - accuracy: 0.7786 - val_loss: 0.4769 - val_accuracy: 0.7482\n",
      "Epoch 12/15\n",
      "20/20 [==============================] - 3s 166ms/step - loss: 0.4345 - accuracy: 0.7985 - val_loss: 0.4566 - val_accuracy: 0.7622\n",
      "Epoch 13/15\n",
      "20/20 [==============================] - 3s 166ms/step - loss: 0.4097 - accuracy: 0.8127 - val_loss: 0.4399 - val_accuracy: 0.7722\n",
      "Epoch 14/15\n",
      "20/20 [==============================] - 4s 188ms/step - loss: 0.3880 - accuracy: 0.8256 - val_loss: 0.4261 - val_accuracy: 0.7852\n",
      "Epoch 15/15\n",
      "20/20 [==============================] - 3s 168ms/step - loss: 0.3689 - accuracy: 0.8367 - val_loss: 0.4147 - val_accuracy: 0.7918\n"
     ]
    }
   ],
   "source": [
    "history=model.fit(train_ds,\n",
    "                 validation_data=validation_ds,\n",
    "                 epochs=15\n",
    "                 )"
   ]
  },
  {
   "cell_type": "code",
   "execution_count": 96,
   "id": "3e5609c5",
   "metadata": {},
   "outputs": [],
   "source": [
    "weights=model.get_layer('embedding').get_weights()[0]"
   ]
  },
  {
   "cell_type": "code",
   "execution_count": 100,
   "id": "18b95a97",
   "metadata": {},
   "outputs": [],
   "source": [
    "vocab_layer=vectorize_layer.get_vocabulary()"
   ]
  },
  {
   "cell_type": "code",
   "execution_count": 102,
   "id": "6b9834d2",
   "metadata": {},
   "outputs": [],
   "source": [
    "# vocab_layer"
   ]
  },
  {
   "cell_type": "code",
   "execution_count": null,
   "id": "830603d0",
   "metadata": {},
   "outputs": [],
   "source": []
  }
 ],
 "metadata": {
  "kernelspec": {
   "display_name": "Python 3 (ipykernel)",
   "language": "python",
   "name": "python3"
  },
  "language_info": {
   "codemirror_mode": {
    "name": "ipython",
    "version": 3
   },
   "file_extension": ".py",
   "mimetype": "text/x-python",
   "name": "python",
   "nbconvert_exporter": "python",
   "pygments_lexer": "ipython3",
   "version": "3.10.4"
  }
 },
 "nbformat": 4,
 "nbformat_minor": 5
}
